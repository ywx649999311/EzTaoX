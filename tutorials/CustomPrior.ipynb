{
 "cells": [
  {
   "cell_type": "markdown",
   "id": "3f0557f6-f266-4e8f-89e9-ef52c7919dc5",
   "metadata": {},
   "source": [
    "## Implement Custom Prior For Fitting\n",
    "To do this, you have to extend either `UniVarModel` or `MultiVarModel`."
   ]
  },
  {
   "cell_type": "code",
   "execution_count": 1,
   "id": "fe1c30bf-ed28-420c-9430-19c91b1372e7",
   "metadata": {},
   "outputs": [],
   "source": [
    "import warnings\n",
    "\n",
    "import arviz as az\n",
    "import jax\n",
    "import jax.numpy as jnp\n",
    "import matplotlib.pyplot as plt\n",
    "import numpy as np\n",
    "import numpyro\n",
    "import numpyro.distributions as dist\n",
    "import optax\n",
    "from eztao.carma import CARMA_term, DHO_term, DRW_term\n",
    "from eztao.ts import addNoise, gpSimFull, gpSimRand\n",
    "from eztaox.fitter import fit\n",
    "from eztaox.initializers import CARMAInit, DRWInit, UniformInit\n",
    "from eztaox.kernels import CARMA\n",
    "from eztaox.models import MultiVarModel, UniVarModel\n",
    "from eztaox.utils import formatlc\n",
    "from numpyro.infer import ESS, MCMC, NUTS, SA, BarkerMH\n",
    "from eztaox.kernel_utils import carma_sf, carma_psd\n",
    "from functools import partial\n",
    "from tinygp import kernels\n",
    "\n",
    "warnings.filterwarnings(\n",
    "    \"ignore\", category=RuntimeWarning\n",
    ")  # Ignore ArviZ underflow warnings\n",
    "\n",
    "jax.config.update(\"jax_enable_x64\", True)"
   ]
  },
  {
   "cell_type": "markdown",
   "id": "3ead8279-ad12-428d-8de7-dd89bf22ac06",
   "metadata": {},
   "source": [
    "### 1. Simulate LC\n",
    "- Added 5 day lag between g and i band"
   ]
  },
  {
   "cell_type": "code",
   "execution_count": 2,
   "id": "68bca529-a3e0-4f63-8200-2153bd7f6cf4",
   "metadata": {},
   "outputs": [
    {
     "data": {
      "text/plain": [
       "<matplotlib.legend.Legend at 0xffff0887b7d0>"
      ]
     },
     "execution_count": 2,
     "metadata": {},
     "output_type": "execute_result"
    },
    {
     "data": {
      "image/png": "[encoded data removed]",
      "text/plain": [
       "<Figure size 640x480 with 1 Axes>"
      ]
     },
     "metadata": {},
     "output_type": "display_data"
    }
   ],
   "source": [
    "amps = {\"g\": 0.35, \"i\": 0.25}\n",
    "taus = {\"g\": 100, \"i\": 150}\n",
    "snrs = {\"g\": 5, \"i\": 3}\n",
    "sampling_seeds = {\"g\": 2, \"i\": 5}\n",
    "noise_seeds = {\"g\": 111, \"i\": 2}\n",
    "\n",
    "ts, ys, yerrs = {}, {}, {}\n",
    "ys_noisy = {}\n",
    "seed = 2\n",
    "for band in \"gi\":\n",
    "    DRW_kernel = DRW_term(np.log(amps[band]), np.log(taus[band]))\n",
    "    t, y, yerr = gpSimRand(\n",
    "        DRW_kernel,\n",
    "        snrs[band],\n",
    "        365 * 10,\n",
    "        100,\n",
    "        lc_seed=seed,\n",
    "    )\n",
    "\n",
    "    # add to dict\n",
    "    ts[band] = t\n",
    "    ys[band] = y\n",
    "    yerrs[band] = yerr\n",
    "    # add simulated photometric noise\n",
    "    ys_noisy[band] = addNoise(ys[band], yerrs[band], seed=noise_seeds[band] + seed)\n",
    "\n",
    "for b in \"g\":\n",
    "    plt.errorbar(\n",
    "        ts[b][::1], ys_noisy[b][::1], yerrs[b][::1], fmt=\".\", label=f\"{b}-band\"\n",
    "    )\n",
    "\n",
    "plt.xlabel(\"Time\")\n",
    "plt.ylabel(\"Flux (mag)\")\n",
    "plt.legend()"
   ]
  },
  {
   "cell_type": "markdown",
   "id": "a8dc81d6-7ca6-40d7-9fa6-d3277135534e",
   "metadata": {},
   "source": [
    "### 2. Extend UniVarModel"
   ]
  },
  {
   "cell_type": "code",
   "execution_count": 3,
   "id": "60ba0a9b-781a-4f39-bd88-5ad63dc3ef0f",
   "metadata": {},
   "outputs": [],
   "source": [
    "class myModel(UniVarModel):\n",
    "\n",
    "    # define your own prior for fitting; use DRW for demonstration\n",
    "    def myPrior(self, params):\n",
    "\n",
    "        prior = 0.0\n",
    "        tau = params[\"log_kernel_param\"][0]\n",
    "        # return -inf is tau is smaller than 500 day and larger than 10 day\n",
    "        prior += jax.lax.select(\n",
    "            jnp.logical_and(tau >= jnp.log(10), tau <= jnp.log(500)), -jnp.inf, 0.0\n",
    "        )\n",
    "\n",
    "        return prior\n",
    "    # also need to update the log_prob to include the prior\n",
    "    def log_prob(self, params):\n",
    "        gp = self._build_gp(params)\n",
    "        return gp.log_probability(self.y[self.inds]) + self.myPrior(params)"
   ]
  },
  {
   "cell_type": "markdown",
   "id": "3b59a805-e30b-4bfb-a8ba-1aa96113331c",
   "metadata": {},
   "source": [
    "#### 2.1 Fit Using the new model"
   ]
  },
  {
   "cell_type": "code",
   "execution_count": 4,
   "id": "730ec056-2c20-4973-b404-ce404870ef28",
   "metadata": {},
   "outputs": [
    {
     "data": {
      "text/plain": [
       "myModel(\n",
       "  t=f64[100],\n",
       "  y=f64[100],\n",
       "  yerr=f64[100],\n",
       "  inds=i64[100],\n",
       "  kernel_def=<jax._src.util.HashablePartial object at 0xffff088c43b0>,\n",
       "  zero_mean=False,\n",
       "  has_jitter=True\n",
       ")"
      ]
     },
     "execution_count": 4,
     "metadata": {},
     "output_type": "execute_result"
    }
   ],
   "source": [
    "# define params\n",
    "zero_mean = False\n",
    "has_jitter = True\n",
    "p = 2\n",
    "test_params = {\"log_kernel_param\": jnp.log(np.array([1 / 100.0, 0.35]))}\n",
    "\n",
    "# define kernel\n",
    "k = kernels.quasisep.Exp(*jnp.exp(test_params[\"log_kernel_param\"]))\n",
    "\n",
    "m = myModel(\n",
    "    ts[\"g\"], ys_noisy[\"g\"], yerrs[\"g\"], k, zero_mean=zero_mean, has_jitter=has_jitter\n",
    ")\n",
    "m"
   ]
  },
  {
   "cell_type": "code",
   "execution_count": 5,
   "id": "51f1e418-8e18-4c61-97c9-a7b9c0add0c7",
   "metadata": {},
   "outputs": [
    {
     "data": {
      "text/plain": [
       "{'log_kernel_param': Array([-2.85186501, -2.03368661], dtype=float64),\n",
       " 'mean': Array(0.24264268, dtype=float64),\n",
       " 'log_jitter': Array(-8.93528402, dtype=float64)}"
      ]
     },
     "execution_count": 5,
     "metadata": {},
     "output_type": "execute_result"
    }
   ],
   "source": [
    "# for CARMA kernel, the learning_rate needs to be larger\n",
    "optimizer = optax.adam(learning_rate=1)\n",
    "\n",
    "\n",
    "def initSampler(key, nSample):\n",
    "    # split keys\n",
    "    subkeys = jax.random.split(key, 10)\n",
    "\n",
    "    # uniform sampler\n",
    "    meanSampler = UniformInit(1, [-0.3, 0.3])\n",
    "    logJitterSampler = UniformInit(1, [-20, -5])\n",
    "\n",
    "    # kernel init\n",
    "    kernelSampler = DRWInit([jnp.log(1 / 1000), jnp.log(1)], [jnp.log(0.05), 0.0])\n",
    "\n",
    "    return {\n",
    "        \"log_kernel_param\": kernelSampler(subkeys[0], nSample),\n",
    "        \"mean\": meanSampler(subkeys[2], nSample),\n",
    "        \"log_jitter\": logJitterSampler(subkeys[4], nSample),\n",
    "    }\n",
    "\n",
    "\n",
    "initSample = initSampler(jax.random.PRNGKey(10), 1)\n",
    "initSample"
   ]
  },
  {
   "cell_type": "code",
   "execution_count": 6,
   "id": "e6d7247f-5266-4906-9c41-77465a653a3c",
   "metadata": {},
   "outputs": [
    {
     "data": {
      "text/plain": [
       "({'log_jitter': Array(-9.28405721, dtype=float64),\n",
       "  'log_kernel_param': Array([ 6.21460928, -0.78179752], dtype=float64),\n",
       "  'mean': Array(0.1366942, dtype=float64)},\n",
       " Array(12.81444206, dtype=float64, weak_type=True))"
      ]
     },
     "execution_count": 6,
     "metadata": {},
     "output_type": "execute_result"
    }
   ],
   "source": [
    "optimizer = optax.adam(learning_rate=0.1)\n",
    "initSampler = initSampler\n",
    "prng_key = jax.random.PRNGKey(0)\n",
    "nInitSample = 1_000\n",
    "nIter = 2\n",
    "nBest = 5\n",
    "jaxoptMethod = \"SLSQP\"\n",
    "\n",
    "bestP, logProb = fit(m, optimizer, initSampler, prng_key, nInitSample, nIter, nBest)\n",
    "bestP, logProb"
   ]
  },
  {
   "cell_type": "code",
   "execution_count": 7,
   "id": "909a8c38-3335-4253-bb2e-15b6b15e2d42",
   "metadata": {},
   "outputs": [
    {
     "name": "stdout",
     "output_type": "stream",
     "text": [
      "Best-fit Tau: 500.0005927322352\n"
     ]
    }
   ],
   "source": [
    "print(f'Best-fit Tau: {jnp.exp(bestP['log_kernel_param'][0])}')"
   ]
  },
  {
   "cell_type": "markdown",
   "id": "458ed870-84db-4c94-9fce-313d2fcf5f07",
   "metadata": {},
   "source": [
    "### 3. Without Custom Prior"
   ]
  },
  {
   "cell_type": "code",
   "execution_count": 8,
   "id": "afe59458-37de-4f6a-815a-519c986f3061",
   "metadata": {},
   "outputs": [
    {
     "data": {
      "text/plain": [
       "UniVarModel(\n",
       "  t=f64[100],\n",
       "  y=f64[100],\n",
       "  yerr=f64[100],\n",
       "  inds=i64[100],\n",
       "  kernel_def=<jax._src.util.HashablePartial object at 0xffff09190530>,\n",
       "  zero_mean=False,\n",
       "  has_jitter=True\n",
       ")"
      ]
     },
     "execution_count": 8,
     "metadata": {},
     "output_type": "execute_result"
    }
   ],
   "source": [
    "zero_mean = False\n",
    "has_jitter = True\n",
    "p = 2\n",
    "test_params = {\"log_kernel_param\": jnp.log(np.array([1 / 100.0, 0.35]))}\n",
    "\n",
    "# define kernel\n",
    "k = kernels.quasisep.Exp(*jnp.exp(test_params[\"log_kernel_param\"]))\n",
    "\n",
    "m2 = UniVarModel(\n",
    "    ts[\"g\"], ys_noisy[\"g\"], yerrs[\"g\"], k, zero_mean=zero_mean, has_jitter=has_jitter\n",
    ")\n",
    "m2"
   ]
  },
  {
   "cell_type": "code",
   "execution_count": 9,
   "id": "3c758a7d-21eb-4634-afc4-a1b068e9e7b1",
   "metadata": {},
   "outputs": [
    {
     "data": {
      "text/plain": [
       "({'log_jitter': Array(-19.51387019, dtype=float64),\n",
       "  'log_kernel_param': Array([ 4.91283035, -0.9372493 ], dtype=float64),\n",
       "  'mean': Array(0.07285778, dtype=float64)},\n",
       " Array(24.21248311, dtype=float64, weak_type=True))"
      ]
     },
     "execution_count": 9,
     "metadata": {},
     "output_type": "execute_result"
    }
   ],
   "source": [
    "optimizer = optax.adam(learning_rate=0.1)\n",
    "initSampler = initSampler\n",
    "prng_key = jax.random.PRNGKey(0)\n",
    "nInitSample = 10_000\n",
    "nIter = 2\n",
    "nBest = 5\n",
    "jaxoptMethod = \"SLSQP\"\n",
    "\n",
    "bestP, logProb = fit(m2, optimizer, initSampler, prng_key, nInitSample, nIter, nBest)\n",
    "bestP, logProb"
   ]
  },
  {
   "cell_type": "code",
   "execution_count": 10,
   "id": "014058c9-d1fd-4d49-8932-b94fc8f0f011",
   "metadata": {},
   "outputs": [
    {
     "name": "stdout",
     "output_type": "stream",
     "text": [
      "Best-fit Tau: 136.02386575435105\n"
     ]
    }
   ],
   "source": [
    "print(f'Best-fit Tau: {jnp.exp(bestP['log_kernel_param'][0])}')"
   ]
  },
  {
   "cell_type": "code",
   "execution_count": null,
   "id": "f91cbae2-b3d9-4567-b9e6-be9248706a61",
   "metadata": {},
   "outputs": [],
   "source": []
  }
 ],
 "metadata": {
  "jupytext": {
   "notebook_metadata_filter": "-all"
  },
  "kernelspec": {
   "display_name": "EzTaoX_Dev",
   "language": "python",
   "name": "eztaox"
  },
  "language_info": {
   "codemirror_mode": {
    "name": "ipython",
    "version": 3
   },
   "file_extension": ".py",
   "mimetype": "text/x-python",
   "name": "python",
   "nbconvert_exporter": "python",
   "pygments_lexer": "ipython3",
   "version": "3.12.8"
  }
 },
 "nbformat": 4,
 "nbformat_minor": 5
}
